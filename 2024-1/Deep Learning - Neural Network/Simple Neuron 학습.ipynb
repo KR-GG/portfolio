{
  "cells": [
    {
      "cell_type": "markdown",
      "source": [
        "# EXCEL로 만든 인공신경망을 pytorch의 Tensor 클래스을 이용하여 만들기"
      ],
      "metadata": {},
      "id": "187bc05b"
    },
    {
      "cell_type": "code",
      "source": [
        "import torch"
      ],
      "outputs": [],
      "execution_count": 1,
      "metadata": {},
      "id": "40b1557a"
    },
    {
      "cell_type": "markdown",
      "source": [
        "필요한 함수의 정의하기"
      ],
      "metadata": {},
      "id": "52dacaad"
    },
    {
      "cell_type": "code",
      "source": [
        "def ReLU_func(outputs):\n",
        "    zero_tensor = torch.zeros(outputs.size())\n",
        "    final_outputs = torch.maximum(outputs, zero_tensor)\n",
        "    return final_outputs\n",
        "\n",
        "def softmax(outputs):\n",
        "    numerator = torch.exp(outputs-torch.max(outputs))\n",
        "    denominator = torch.sum(numerator, dim=1).view(-1, 1)\n",
        "    softmax = numerator/denominator\n",
        "    return softmax\n",
        "\n",
        "def cross_entropy(outputs, labels):\n",
        "    return -torch.sum(labels * torch.log(outputs), dim=1)"
      ],
      "outputs": [],
      "execution_count": 2,
      "metadata": {},
      "id": "c53c8aba"
    },
    {
      "cell_type": "markdown",
      "source": [
        "Weight 값 설정하기"
      ],
      "metadata": {},
      "id": "8bb50e1f"
    },
    {
      "cell_type": "code",
      "source": [
        "w_ih = torch.Tensor([[1, -2, 3],[-2, 5, 3]])\n",
        "w_ho = torch.Tensor([[3, -2, 4], [-1, 2, 3], [2, -2, -4]])"
      ],
      "outputs": [],
      "execution_count": 3,
      "metadata": {},
      "id": "41143ded"
    },
    {
      "cell_type": "markdown",
      "source": [
        "Batch 가 3인 Input 값과 Labels 값의 입력하기"
      ],
      "metadata": {},
      "id": "1d9997f9"
    },
    {
      "cell_type": "code",
      "source": [
        "input = torch.Tensor([[2, 4],[0, 3],[-6, 2]])\n",
        "labels = torch.Tensor([[1,0,0], [0,1,0], [0,0,1]])"
      ],
      "outputs": [],
      "execution_count": 4,
      "metadata": {},
      "id": "a572aa07"
    },
    {
      "cell_type": "markdown",
      "source": [
        "L1의 활성화 함수 전의 값 구하기"
      ],
      "metadata": {},
      "id": "2bef726d"
    },
    {
      "cell_type": "code",
      "source": [
        "L1 = torch.mm(input, w_ih)\n",
        "print(L1)"
      ],
      "outputs": [
        {
          "output_type": "stream",
          "name": "stdout",
          "text": "tensor([[ -6.,  16.,  18.],\n        [ -6.,  15.,   9.],\n        [-10.,  22., -12.]])\n"
        }
      ],
      "execution_count": 5,
      "metadata": {
        "scrolled": true
      },
      "id": "bf59a79f"
    },
    {
      "cell_type": "markdown",
      "source": [
        "ReLU의 적용하기"
      ],
      "metadata": {},
      "id": "f8de5cb0"
    },
    {
      "cell_type": "code",
      "source": [
        "L1 = ReLU_func(L1)\n",
        "print(L1)"
      ],
      "outputs": [
        {
          "output_type": "stream",
          "name": "stdout",
          "text": "tensor([[ 0., 16., 18.],\n        [ 0., 15.,  9.],\n        [ 0., 22.,  0.]])\n"
        }
      ],
      "execution_count": 6,
      "metadata": {},
      "id": "b8c2c44f"
    },
    {
      "cell_type": "markdown",
      "source": [
        "Output 구하기"
      ],
      "metadata": {},
      "id": "f9e9b42c"
    },
    {
      "cell_type": "code",
      "source": [
        "outputs = torch.mm(L1, w_ho)\n",
        "print(outputs)"
      ],
      "outputs": [
        {
          "output_type": "stream",
          "name": "stdout",
          "text": "tensor([[ 20.,  -4., -24.],\n        [  3.,  12.,   9.],\n        [-22.,  44.,  66.]])\n"
        }
      ],
      "execution_count": 7,
      "metadata": {},
      "id": "72dc0d6c"
    },
    {
      "cell_type": "markdown",
      "source": [
        "Softmax의 적용"
      ],
      "metadata": {},
      "id": "86e4c95f"
    },
    {
      "cell_type": "code",
      "source": [
        "so = softmax(outputs)\n",
        "print(so)"
      ],
      "outputs": [
        {
          "output_type": "stream",
          "name": "stdout",
          "text": "tensor([[1.0000e+00, 3.7751e-11, 7.7811e-20],\n        [1.1754e-04, 9.5246e-01, 4.7420e-02],\n        [6.0546e-39, 2.7895e-10, 1.0000e+00]])\n"
        }
      ],
      "execution_count": 8,
      "metadata": {},
      "id": "d4f97dde"
    },
    {
      "cell_type": "markdown",
      "source": [
        "sample별로 loss 구하기"
      ],
      "metadata": {},
      "id": "a2131903"
    },
    {
      "cell_type": "code",
      "source": [
        "loss = cross_entropy(so, labels)\n",
        "print(loss)"
      ],
      "outputs": [
        {
          "output_type": "stream",
          "name": "stdout",
          "text": "tensor([-0.0000, 0.0487, -0.0000])\n"
        }
      ],
      "execution_count": 9,
      "metadata": {},
      "id": "e08c9c96"
    },
    {
      "cell_type": "markdown",
      "source": [
        "최종 loss 구하기"
      ],
      "metadata": {},
      "id": "8cd0b2cf"
    },
    {
      "cell_type": "code",
      "source": [
        "loss = torch.mean(loss)\n",
        "print(loss)"
      ],
      "outputs": [
        {
          "output_type": "stream",
          "name": "stdout",
          "text": "tensor(0.0162)\n"
        }
      ],
      "execution_count": 10,
      "metadata": {},
      "id": "36fe5758"
    },
    {
      "cell_type": "markdown",
      "source": [
        "## EXCEL과 같은 답이 나오는가?"
      ],
      "metadata": {},
      "id": "eb21e73c"
    },
    {
      "cell_type": "markdown",
      "source": [
        " #### 아니면 이유가 무엇인가? \n"
      ],
      "metadata": {},
      "id": "893cd1b6"
    },
    {
      "cell_type": "markdown",
      "source": [
        "loss값이 엑셀에서와 주피터 노트북에서의 소수점의 처리 방식의 차이 때문에 소수점아래 수에서 아주 약간 차이를 보인다. 하지만, 거의 동일한 답이 나오는 것을 알 수 있다."
      ],
      "metadata": {},
      "id": "d0698009"
    }
  ],
  "metadata": {
    "kernelspec": {
      "display_name": "py37",
      "language": "python",
      "name": "py37"
    },
    "language_info": {
      "codemirror_mode": {
        "name": "ipython",
        "version": 3
      },
      "file_extension": ".py",
      "mimetype": "text/x-python",
      "name": "python",
      "nbconvert_exporter": "python",
      "pygments_lexer": "ipython3",
      "version": "3.7.16"
    },
    "nteract": {
      "version": "nteract-front-end@1.0.0"
    }
  },
  "nbformat": 4,
  "nbformat_minor": 5
}