{
 "cells": [
  {
   "cell_type": "markdown",
   "id": "fb39a3a4",
   "metadata": {},
   "source": [
    "### 스칼라, 벡터, 매트릭스, 텐서를 numpy를 이용하여 만들기"
   ]
  },
  {
   "cell_type": "code",
   "execution_count": 1,
   "id": "5edd194e",
   "metadata": {},
   "outputs": [],
   "source": [
    "import numpy as np"
   ]
  },
  {
   "cell_type": "code",
   "execution_count": 2,
   "id": "282833e6",
   "metadata": {},
   "outputs": [],
   "source": [
    "a =  np.array(2)"
   ]
  },
  {
   "cell_type": "code",
   "execution_count": 3,
   "id": "1697e7e0",
   "metadata": {},
   "outputs": [],
   "source": [
    "b =  np.arange(3)"
   ]
  },
  {
   "cell_type": "code",
   "execution_count": 4,
   "id": "6a779323",
   "metadata": {},
   "outputs": [],
   "source": [
    "c =  np.arange(20).reshape(4,5)"
   ]
  },
  {
   "cell_type": "code",
   "execution_count": 5,
   "id": "0a32e8c7",
   "metadata": {},
   "outputs": [],
   "source": [
    "d =  np.arange(24).reshape(2,3,4)"
   ]
  },
  {
   "cell_type": "markdown",
   "id": "e510a2b9",
   "metadata": {},
   "source": [
    "### numpy의 poly1d를 이용하여 미분하기"
   ]
  },
  {
   "cell_type": "code",
   "execution_count": 6,
   "id": "19771564",
   "metadata": {},
   "outputs": [],
   "source": [
    "var =  np.poly1d([2,2,1])"
   ]
  },
  {
   "cell_type": "code",
   "execution_count": 7,
   "id": "047976b5",
   "metadata": {},
   "outputs": [
    {
     "name": "stdout",
     "output_type": "stream",
     "text": [
      "   2\n",
      "2 x + 2 x + 1\n"
     ]
    }
   ],
   "source": [
    "print(var) #함수의 형태 보기"
   ]
  },
  {
   "cell_type": "code",
   "execution_count": 8,
   "id": "7bd7ec37",
   "metadata": {},
   "outputs": [],
   "source": [
    "derivative = var.deriv()"
   ]
  },
  {
   "cell_type": "code",
   "execution_count": 9,
   "id": "3488d070",
   "metadata": {},
   "outputs": [
    {
     "name": "stdout",
     "output_type": "stream",
     "text": [
      " \n",
      "4 x + 2\n"
     ]
    }
   ],
   "source": [
    "print(derivative) # 미분 형태 보기"
   ]
  },
  {
   "cell_type": "code",
   "execution_count": 10,
   "id": "685c2fd5",
   "metadata": {},
   "outputs": [
    {
     "name": "stdout",
     "output_type": "stream",
     "text": [
      "-2\n"
     ]
    }
   ],
   "source": [
    "print(derivative(-1)) # 미분된 함수에 x에 -1 값 넣기"
   ]
  },
  {
   "cell_type": "markdown",
   "id": "fa3b1746",
   "metadata": {},
   "source": [
    "### 경사하강법 이해하기"
   ]
  },
  {
   "cell_type": "code",
   "execution_count": 11,
   "id": "dbdbde49",
   "metadata": {},
   "outputs": [],
   "source": [
    "f = np.poly1d([2,0,12])"
   ]
  },
  {
   "cell_type": "code",
   "execution_count": 12,
   "id": "22365ccd",
   "metadata": {},
   "outputs": [],
   "source": [
    "x = 5"
   ]
  },
  {
   "cell_type": "code",
   "execution_count": 13,
   "id": "7807013b",
   "metadata": {},
   "outputs": [],
   "source": [
    "der = f.deriv()"
   ]
  },
  {
   "cell_type": "code",
   "execution_count": 14,
   "id": "bd314edf",
   "metadata": {},
   "outputs": [
    {
     "name": "stdout",
     "output_type": "stream",
     "text": [
      "3.0 30.0 12.0\n"
     ]
    }
   ],
   "source": [
    "lr = 0.1           # learning rate\n",
    "x = x - lr * der(x)       # 새로운 x 구하기\n",
    "print(x, f(x), der(x))    # x값 프린트"
   ]
  },
  {
   "cell_type": "code",
   "execution_count": 15,
   "id": "04432201",
   "metadata": {},
   "outputs": [
    {
     "name": "stdout",
     "output_type": "stream",
     "text": [
      "x:  1.80000 f(x): 18.48000\n",
      "x:  1.08000 f(x): 14.33280\n",
      "x:  0.64800 f(x): 12.83981\n",
      "x:  0.38880 f(x): 12.30233\n",
      "x:  0.23328 f(x): 12.10884\n",
      "x:  0.13997 f(x): 12.03918\n",
      "x:  0.08398 f(x): 12.01411\n",
      "x:  0.05039 f(x): 12.00508\n",
      "x:  0.03023 f(x): 12.00183\n",
      "x:  0.01814 f(x): 12.00066\n",
      "x:  0.01088 f(x): 12.00024\n",
      "x:  0.00653 f(x): 12.00009\n",
      "x:  0.00392 f(x): 12.00003\n",
      "x:  0.00235 f(x): 12.00001\n",
      "x:  0.00141 f(x): 12.00000\n",
      "x:  0.00085 f(x): 12.00000\n",
      "x:  0.00051 f(x): 12.00000\n",
      "x:  0.00030 f(x): 12.00000\n",
      "x:  0.00018 f(x): 12.00000\n",
      "x:  0.00011 f(x): 12.00000\n"
     ]
    }
   ],
   "source": [
    "for i in range(20):\n",
    "    x = x - lr * der(x) \n",
    "    print(f'x:  {x:.5f} f(x): {f(x):.5f}')"
   ]
  }
 ],
 "metadata": {
  "kernelspec": {
   "display_name": "py37",
   "language": "python",
   "name": "py37"
  },
  "language_info": {
   "codemirror_mode": {
    "name": "ipython",
    "version": 3
   },
   "file_extension": ".py",
   "mimetype": "text/x-python",
   "name": "python",
   "nbconvert_exporter": "python",
   "pygments_lexer": "ipython3",
   "version": "3.7.16"
  },
  "nteract": {
   "version": "nteract-front-end@1.0.0"
  }
 },
 "nbformat": 4,
 "nbformat_minor": 5
}
